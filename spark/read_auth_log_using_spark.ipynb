{
 "cells": [
  {
   "cell_type": "code",
   "execution_count": 1,
   "metadata": {},
   "outputs": [
    {
     "name": "stdout",
     "output_type": "stream",
     "text": [
      "Welcome to\n",
      "      ____              __\n",
      "     / __/__  ___ _____/ /__\n",
      "    _\\ \\/ _ \\/ _ `/ __/  '_/\n",
      "   /__ / .__/\\_,_/_/ /_/\\_\\   version 2.3.2.3.1.0.0-78\n",
      "      /_/\n",
      "\n",
      "Using Python version 2.7.16 (default, Sep 24 2019 21:51:30)\n",
      "SparkSession available as 'spark'.\n"
     ]
    }
   ],
   "source": [
    "import os\n",
    "import sys\n",
    "\n",
    "os.environ[\"PYSPARK_SUBMIT_ARGS\"]='pyspark-shell'\n",
    "os.environ[\"PYSPARK_PYTHON\"]='/usr/bin/python3'\n",
    "os.environ[\"SPARK_HOME\"]='/usr/hdp/current/spark2-client'\n",
    "\n",
    "spark_home = os.environ.get('SPARK_HOME', None)\n",
    "if not spark_home:\n",
    "    raise ValueError('SPARK_HOME environment variable is not set')\n",
    "sys.path.insert(0, os.path.join(spark_home, 'python'))\n",
    "sys.path.insert(0, os.path.join(spark_home, 'python/lib/py4j-0.10.7-src.zip'))\n",
    "exec(open(os.path.join(spark_home, 'python/pyspark/shell.py')).read())"
   ]
  },
  {
   "cell_type": "code",
   "execution_count": 2,
   "metadata": {},
   "outputs": [],
   "source": [
    "linux_auth_logs = 'linux_auth_logs/auth.log*'\n",
    "df_raw = spark.read.text(linux_auth_logs)"
   ]
  },
  {
   "cell_type": "code",
   "execution_count": 3,
   "metadata": {
    "scrolled": false
   },
   "outputs": [
    {
     "name": "stdout",
     "output_type": "stream",
     "text": [
      "+---------------------------------------------------------------------------------------------------------+\n",
      "|value                                                                                                    |\n",
      "+---------------------------------------------------------------------------------------------------------+\n",
      "|Oct  6 06:25:15 de-5-maria-sokolova-cn1 CRON[26658]: pam_unix(cron:session): session closed for user root|\n",
      "|Oct  6 06:27:42 de-5-maria-sokolova-cn1 su[14001]: pam_unix(su:session): session closed for user root    |\n",
      "|Oct  6 06:27:42 de-5-maria-sokolova-cn1 sudo: pam_unix(sudo:session): session closed for user root       |\n",
      "+---------------------------------------------------------------------------------------------------------+\n",
      "only showing top 3 rows\n",
      "\n"
     ]
    }
   ],
   "source": [
    "df_raw.show(3,False)"
   ]
  },
  {
   "cell_type": "code",
   "execution_count": 4,
   "metadata": {},
   "outputs": [],
   "source": [
    "from pyspark.sql import functions as sf"
   ]
  },
  {
   "cell_type": "code",
   "execution_count": 5,
   "metadata": {},
   "outputs": [],
   "source": [
    "log_line_dt = sf.split(df_raw[\"value\"],\"de-5-maria-sokolova-cn1\")"
   ]
  },
  {
   "cell_type": "code",
   "execution_count": 6,
   "metadata": {},
   "outputs": [],
   "source": [
    "log_line_hostame_event = sf.split( sf.substring(df_raw[\"value\"],16,2048),\" \")"
   ]
  },
  {
   "cell_type": "code",
   "execution_count": 7,
   "metadata": {},
   "outputs": [
    {
     "name": "stdout",
     "output_type": "stream",
     "text": [
      "+---------------------------------------------------------------------------------------------------------+------------+\n",
      "|value                                                                                                    |hostname    |\n",
      "+---------------------------------------------------------------------------------------------------------+------------+\n",
      "|Oct  6 06:25:15 de-5-maria-sokolova-cn1 CRON[26658]: pam_unix(cron:session): session closed for user root|CRON[26658]:|\n",
      "|Oct  6 06:27:42 de-5-maria-sokolova-cn1 su[14001]: pam_unix(su:session): session closed for user root    |su[14001]:  |\n",
      "|Oct  6 06:27:42 de-5-maria-sokolova-cn1 sudo: pam_unix(sudo:session): session closed for user root       |sudo:       |\n",
      "|Oct  6 06:27:43 de-5-maria-sokolova-cn1 su[28021]: Successful su for ambari-qa by root                   |su[28021]:  |\n",
      "|Oct  6 06:27:43 de-5-maria-sokolova-cn1 su[28021]: + ??? root:ambari-qa                                  |su[28021]:  |\n",
      "+---------------------------------------------------------------------------------------------------------+------------+\n",
      "only showing top 5 rows\n",
      "\n"
     ]
    }
   ],
   "source": [
    "df_raw.withColumn(\"hostname\", log_line_hostame_event[2]).show(5,False)"
   ]
  },
  {
   "cell_type": "code",
   "execution_count": 8,
   "metadata": {},
   "outputs": [],
   "source": [
    "log_message = sf.split(df_raw[\"value\"],\"]: \")"
   ]
  },
  {
   "cell_type": "code",
   "execution_count": 9,
   "metadata": {},
   "outputs": [],
   "source": [
    "df_raw=df_raw.withColumn(\"dt\", log_line_dt[0])\n",
    "df_raw=df_raw.withColumn(\"hostname\", log_line_hostame_event[1])\n",
    "df_raw=df_raw.withColumn(\"event\", log_line_hostame_event[2])\n",
    "df_raw=df_raw.withColumn(\"message\", log_message[1])"
   ]
  },
  {
   "cell_type": "code",
   "execution_count": 10,
   "metadata": {},
   "outputs": [
    {
     "name": "stdout",
     "output_type": "stream",
     "text": [
      "+----------------+-----------------------+--------------------+------------------------------------------------------------------+\n",
      "|dt              |hostname               |event               |message                                                           |\n",
      "+----------------+-----------------------+--------------------+------------------------------------------------------------------+\n",
      "|Oct  6 06:25:15 |de-5-maria-sokolova-cn1|CRON[26658]:        |pam_unix(cron:session): session closed for user root              |\n",
      "|Oct  6 06:27:42 |de-5-maria-sokolova-cn1|su[14001]:          |pam_unix(su:session): session closed for user root                |\n",
      "|Oct  6 06:27:42 |de-5-maria-sokolova-cn1|sudo:               |null                                                              |\n",
      "|Oct  6 06:27:43 |de-5-maria-sokolova-cn1|su[28021]:          |Successful su for ambari-qa by root                               |\n",
      "|Oct  6 06:27:43 |de-5-maria-sokolova-cn1|su[28021]:          |+ ??? root:ambari-qa                                              |\n",
      "|Oct  6 06:27:43 |de-5-maria-sokolova-cn1|su[28021]:          |pam_unix(su:session): session opened for user ambari-qa by (uid=0)|\n",
      "|Oct  6 06:27:43 |de-5-maria-sokolova-cn1|systemd-logind[923]:|New session c66 of user ambari-qa.                                |\n",
      "|Oct  6 06:27:43 |de-5-maria-sokolova-cn1|systemd:            |null                                                              |\n",
      "|Oct  6 06:27:49 |de-5-maria-sokolova-cn1|su[28021]:          |pam_unix(su:session): session closed for user ambari-qa           |\n",
      "|Oct  6 06:27:49 |de-5-maria-sokolova-cn1|systemd-logind[923]:|Removed session c66.                                              |\n",
      "+----------------+-----------------------+--------------------+------------------------------------------------------------------+\n",
      "only showing top 10 rows\n",
      "\n"
     ]
    }
   ],
   "source": [
    "df_raw.select([\"dt\",\"hostname\",\"event\",\"message\"]).show(10,False)"
   ]
  },
  {
   "cell_type": "code",
   "execution_count": 11,
   "metadata": {},
   "outputs": [],
   "source": [
    "df_raw = df_raw.withColumn(\"datetime\", sf.concat(sf.lit(\"2019 \"),df_raw[\"dt\"])) #.show(5)"
   ]
  },
  {
   "cell_type": "code",
   "execution_count": 12,
   "metadata": {
    "scrolled": true
   },
   "outputs": [
    {
     "name": "stdout",
     "output_type": "stream",
     "text": [
      "+---------------------------------------------------------------------------------------------------------+----------------+-----------------------+------------+----------------------------------------------------+---------------------+\n",
      "|value                                                                                                    |dt              |hostname               |event       |message                                             |datetime             |\n",
      "+---------------------------------------------------------------------------------------------------------+----------------+-----------------------+------------+----------------------------------------------------+---------------------+\n",
      "|Oct  6 06:25:15 de-5-maria-sokolova-cn1 CRON[26658]: pam_unix(cron:session): session closed for user root|Oct  6 06:25:15 |de-5-maria-sokolova-cn1|CRON[26658]:|pam_unix(cron:session): session closed for user root|2019 Oct  6 06:25:15 |\n",
      "|Oct  6 06:27:42 de-5-maria-sokolova-cn1 su[14001]: pam_unix(su:session): session closed for user root    |Oct  6 06:27:42 |de-5-maria-sokolova-cn1|su[14001]:  |pam_unix(su:session): session closed for user root  |2019 Oct  6 06:27:42 |\n",
      "|Oct  6 06:27:42 de-5-maria-sokolova-cn1 sudo: pam_unix(sudo:session): session closed for user root       |Oct  6 06:27:42 |de-5-maria-sokolova-cn1|sudo:       |null                                                |2019 Oct  6 06:27:42 |\n",
      "+---------------------------------------------------------------------------------------------------------+----------------+-----------------------+------------+----------------------------------------------------+---------------------+\n",
      "only showing top 3 rows\n",
      "\n"
     ]
    }
   ],
   "source": [
    "df_raw.show(3, False)"
   ]
  },
  {
   "cell_type": "code",
   "execution_count": 13,
   "metadata": {},
   "outputs": [],
   "source": [
    "datetime_format = \"yyyy MMM d HH:mm:ss\" #2019 Oct  2 06:25:12"
   ]
  },
  {
   "cell_type": "code",
   "execution_count": 14,
   "metadata": {},
   "outputs": [],
   "source": [
    "datetime_to_date = sf.to_timestamp(df_raw[\"datetime\"],datetime_format)"
   ]
  },
  {
   "cell_type": "code",
   "execution_count": 15,
   "metadata": {},
   "outputs": [],
   "source": [
    "df_raw = df_raw.withColumn(\"timestamp\", datetime_to_date)"
   ]
  },
  {
   "cell_type": "code",
   "execution_count": 16,
   "metadata": {
    "scrolled": true
   },
   "outputs": [],
   "source": [
    "event_pid = sf.regexp_extract(df_raw[\"event\"],\"\\d+\",0)"
   ]
  },
  {
   "cell_type": "code",
   "execution_count": 17,
   "metadata": {},
   "outputs": [],
   "source": [
    "event_type = sf.regexp_extract(df_raw[\"event\"],\"[a-zA-Z]+\",0)"
   ]
  },
  {
   "cell_type": "code",
   "execution_count": 18,
   "metadata": {},
   "outputs": [],
   "source": [
    "df_raw = df_raw.withColumn(\"event_pid\", event_pid)"
   ]
  },
  {
   "cell_type": "code",
   "execution_count": 19,
   "metadata": {},
   "outputs": [],
   "source": [
    "df_raw = df_raw.withColumn(\"event_type\", event_type)"
   ]
  },
  {
   "cell_type": "code",
   "execution_count": 20,
   "metadata": {},
   "outputs": [],
   "source": [
    "df = df_raw[(\"timestamp\",\"hostname\",\"event\",\"event_type\",\"event_pid\",\"message\")]"
   ]
  },
  {
   "cell_type": "markdown",
   "metadata": {},
   "source": [
    "http://spark.apache.org/docs/latest/api/python/pyspark.sql.html?highlight=substring#pyspark.sql.functions.regexp_extract"
   ]
  },
  {
   "cell_type": "code",
   "execution_count": 23,
   "metadata": {
    "scrolled": false
   },
   "outputs": [],
   "source": [
    "maxtimestamp = df.agg({\"timestamp\":\"max\"})"
   ]
  },
  {
   "cell_type": "code",
   "execution_count": 28,
   "metadata": {},
   "outputs": [],
   "source": [
    "maxtimestamp_col = maxtimestamp['max(timestamp)']"
   ]
  },
  {
   "cell_type": "code",
   "execution_count": 37,
   "metadata": {},
   "outputs": [],
   "source": [
    "maxtimestamp_row = maxtimestamp.first()"
   ]
  },
  {
   "cell_type": "code",
   "execution_count": 41,
   "metadata": {},
   "outputs": [],
   "source": [
    "maxtimestamp_dict = maxtimestamp_row.asDict()"
   ]
  },
  {
   "cell_type": "code",
   "execution_count": 45,
   "metadata": {},
   "outputs": [],
   "source": [
    "maxtimestamp_value = maxtimestamp_dict.get('max(timestamp)')"
   ]
  },
  {
   "cell_type": "code",
   "execution_count": 47,
   "metadata": {},
   "outputs": [],
   "source": [
    "from datetime import timedelta "
   ]
  },
  {
   "cell_type": "code",
   "execution_count": 51,
   "metadata": {},
   "outputs": [
    {
     "name": "stdout",
     "output_type": "stream",
     "text": [
      "2019-10-09 07:56:52\n"
     ]
    }
   ],
   "source": [
    "print(maxtimestamp_value)"
   ]
  },
  {
   "cell_type": "code",
   "execution_count": 49,
   "metadata": {},
   "outputs": [
    {
     "data": {
      "text/plain": [
       "datetime.datetime(2019, 10, 9, 8, 6, 52)"
      ]
     },
     "execution_count": 49,
     "metadata": {},
     "output_type": "execute_result"
    }
   ],
   "source": [
    "maxtimestamp_value + timedelta(minutes=10)"
   ]
  },
  {
   "cell_type": "code",
   "execution_count": 44,
   "metadata": {},
   "outputs": [
    {
     "name": "stdout",
     "output_type": "stream",
     "text": [
      "+-------------------+-----------------------+-----------+----------+---------+------------------------------------------------------------------------------------------------------------------------+\n",
      "|timestamp          |hostname               |event      |event_type|event_pid|message                                                                                                                 |\n",
      "+-------------------+-----------------------+-----------+----------+---------+------------------------------------------------------------------------------------------------------------------------+\n",
      "|2019-10-07 04:14:05|de-5-maria-sokolova-cn1|sshd[4896]:|sshd      |4896     |Accepted publickey for ubuntu from 176.193.61.84 port 37436 ssh2: RSA SHA256:PhgwaDhr3B+un+nGF4UwoKNwlxAuWfiP4+LgDhXprV0|\n",
      "|2019-10-07 04:14:05|de-5-maria-sokolova-cn1|sshd[4896]:|sshd      |4896     |pam_unix(sshd:session): session opened for user ubuntu by (uid=0)                                                       |\n",
      "|2019-10-07 07:06:48|de-5-maria-sokolova-cn1|sshd[4896]:|sshd      |4896     |pam_unix(sshd:session): session closed for user ubuntu                                                                  |\n",
      "|2019-09-25 09:49:03|de-5-maria-sokolova-cn1|su[4896]:  |su        |4896     |Successful su for ams by root                                                                                           |\n",
      "|2019-09-25 09:49:03|de-5-maria-sokolova-cn1|su[4896]:  |su        |4896     |+ ??? root:ams                                                                                                          |\n",
      "|2019-09-25 09:49:03|de-5-maria-sokolova-cn1|su[4896]:  |su        |4896     |pam_unix(su:session): session opened for user ams by (uid=0)                                                            |\n",
      "|2019-09-25 09:49:05|de-5-maria-sokolova-cn1|su[4896]:  |su        |4896     |pam_unix(su:session): session closed for user ams                                                                       |\n",
      "+-------------------+-----------------------+-----------+----------+---------+------------------------------------------------------------------------------------------------------------------------+\n",
      "\n"
     ]
    }
   ],
   "source": [
    "df.filter(\"event_pid='4896'\").show(200, False)"
   ]
  },
  {
   "cell_type": "code",
   "execution_count": 81,
   "metadata": {},
   "outputs": [
    {
     "data": {
      "text/plain": [
       "DataFrame[timestamp: timestamp, hostname: string, event: string, event_type: string, event_pid: string, message: string]"
      ]
     },
     "execution_count": 81,
     "metadata": {},
     "output_type": "execute_result"
    }
   ],
   "source": [
    "df"
   ]
  },
  {
   "cell_type": "code",
   "execution_count": 82,
   "metadata": {},
   "outputs": [],
   "source": [
    "pd_df = df.toPandas()"
   ]
  },
  {
   "cell_type": "code",
   "execution_count": 83,
   "metadata": {},
   "outputs": [
    {
     "data": {
      "text/html": [
       "<div>\n",
       "<style scoped>\n",
       "    .dataframe tbody tr th:only-of-type {\n",
       "        vertical-align: middle;\n",
       "    }\n",
       "\n",
       "    .dataframe tbody tr th {\n",
       "        vertical-align: top;\n",
       "    }\n",
       "\n",
       "    .dataframe thead th {\n",
       "        text-align: right;\n",
       "    }\n",
       "</style>\n",
       "<table border=\"1\" class=\"dataframe\">\n",
       "  <thead>\n",
       "    <tr style=\"text-align: right;\">\n",
       "      <th></th>\n",
       "      <th>timestamp</th>\n",
       "      <th>hostname</th>\n",
       "      <th>event</th>\n",
       "      <th>event_type</th>\n",
       "      <th>event_pid</th>\n",
       "      <th>message</th>\n",
       "    </tr>\n",
       "  </thead>\n",
       "  <tbody>\n",
       "    <tr>\n",
       "      <th>0</th>\n",
       "      <td>2019-10-06 06:25:15</td>\n",
       "      <td>de-5-maria-sokolova-cn1</td>\n",
       "      <td>CRON[26658]:</td>\n",
       "      <td>CRON</td>\n",
       "      <td>26658</td>\n",
       "      <td>pam_unix(cron:session): session closed for use...</td>\n",
       "    </tr>\n",
       "    <tr>\n",
       "      <th>1</th>\n",
       "      <td>2019-10-06 06:27:42</td>\n",
       "      <td>de-5-maria-sokolova-cn1</td>\n",
       "      <td>su[14001]:</td>\n",
       "      <td>su</td>\n",
       "      <td>14001</td>\n",
       "      <td>pam_unix(su:session): session closed for user ...</td>\n",
       "    </tr>\n",
       "    <tr>\n",
       "      <th>2</th>\n",
       "      <td>2019-10-06 06:27:42</td>\n",
       "      <td>de-5-maria-sokolova-cn1</td>\n",
       "      <td>sudo:</td>\n",
       "      <td>sudo</td>\n",
       "      <td></td>\n",
       "      <td>None</td>\n",
       "    </tr>\n",
       "  </tbody>\n",
       "</table>\n",
       "</div>"
      ],
      "text/plain": [
       "            timestamp                 hostname         event event_type  \\\n",
       "0 2019-10-06 06:25:15  de-5-maria-sokolova-cn1  CRON[26658]:       CRON   \n",
       "1 2019-10-06 06:27:42  de-5-maria-sokolova-cn1    su[14001]:         su   \n",
       "2 2019-10-06 06:27:42  de-5-maria-sokolova-cn1         sudo:       sudo   \n",
       "\n",
       "  event_pid                                            message  \n",
       "0     26658  pam_unix(cron:session): session closed for use...  \n",
       "1     14001  pam_unix(su:session): session closed for user ...  \n",
       "2                                                         None  "
      ]
     },
     "execution_count": 83,
     "metadata": {},
     "output_type": "execute_result"
    }
   ],
   "source": [
    "pd_df.head(3)"
   ]
  },
  {
   "cell_type": "code",
   "execution_count": 84,
   "metadata": {},
   "outputs": [],
   "source": [
    "import pandas as pd"
   ]
  },
  {
   "cell_type": "code",
   "execution_count": 85,
   "metadata": {},
   "outputs": [],
   "source": [
    "#df.timestamp.dt.to_period(freq=\"10Min\")\n",
    "pd_df[\"ts\"] = pd.DatetimeIndex(pd_df.timestamp)"
   ]
  },
  {
   "cell_type": "code",
   "execution_count": 86,
   "metadata": {
    "scrolled": true
   },
   "outputs": [],
   "source": [
    "pd_df[\"ts_start\"]=pd_df.ts.dt.floor(\"10min\")"
   ]
  },
  {
   "cell_type": "code",
   "execution_count": 87,
   "metadata": {},
   "outputs": [
    {
     "data": {
      "text/html": [
       "<div>\n",
       "<style scoped>\n",
       "    .dataframe tbody tr th:only-of-type {\n",
       "        vertical-align: middle;\n",
       "    }\n",
       "\n",
       "    .dataframe tbody tr th {\n",
       "        vertical-align: top;\n",
       "    }\n",
       "\n",
       "    .dataframe thead th {\n",
       "        text-align: right;\n",
       "    }\n",
       "</style>\n",
       "<table border=\"1\" class=\"dataframe\">\n",
       "  <thead>\n",
       "    <tr style=\"text-align: right;\">\n",
       "      <th></th>\n",
       "      <th>timestamp</th>\n",
       "      <th>hostname</th>\n",
       "      <th>event</th>\n",
       "      <th>event_type</th>\n",
       "      <th>event_pid</th>\n",
       "      <th>message</th>\n",
       "      <th>ts</th>\n",
       "      <th>ts_start</th>\n",
       "    </tr>\n",
       "  </thead>\n",
       "  <tbody>\n",
       "    <tr>\n",
       "      <th>0</th>\n",
       "      <td>2019-10-06 06:25:15</td>\n",
       "      <td>de-5-maria-sokolova-cn1</td>\n",
       "      <td>CRON[26658]:</td>\n",
       "      <td>CRON</td>\n",
       "      <td>26658</td>\n",
       "      <td>pam_unix(cron:session): session closed for use...</td>\n",
       "      <td>2019-10-06 06:25:15</td>\n",
       "      <td>2019-10-06 06:20:00</td>\n",
       "    </tr>\n",
       "    <tr>\n",
       "      <th>1</th>\n",
       "      <td>2019-10-06 06:27:42</td>\n",
       "      <td>de-5-maria-sokolova-cn1</td>\n",
       "      <td>su[14001]:</td>\n",
       "      <td>su</td>\n",
       "      <td>14001</td>\n",
       "      <td>pam_unix(su:session): session closed for user ...</td>\n",
       "      <td>2019-10-06 06:27:42</td>\n",
       "      <td>2019-10-06 06:20:00</td>\n",
       "    </tr>\n",
       "    <tr>\n",
       "      <th>2</th>\n",
       "      <td>2019-10-06 06:27:42</td>\n",
       "      <td>de-5-maria-sokolova-cn1</td>\n",
       "      <td>sudo:</td>\n",
       "      <td>sudo</td>\n",
       "      <td></td>\n",
       "      <td>None</td>\n",
       "      <td>2019-10-06 06:27:42</td>\n",
       "      <td>2019-10-06 06:20:00</td>\n",
       "    </tr>\n",
       "    <tr>\n",
       "      <th>3</th>\n",
       "      <td>2019-10-06 06:27:43</td>\n",
       "      <td>de-5-maria-sokolova-cn1</td>\n",
       "      <td>su[28021]:</td>\n",
       "      <td>su</td>\n",
       "      <td>28021</td>\n",
       "      <td>Successful su for ambari-qa by root</td>\n",
       "      <td>2019-10-06 06:27:43</td>\n",
       "      <td>2019-10-06 06:20:00</td>\n",
       "    </tr>\n",
       "    <tr>\n",
       "      <th>4</th>\n",
       "      <td>2019-10-06 06:27:43</td>\n",
       "      <td>de-5-maria-sokolova-cn1</td>\n",
       "      <td>su[28021]:</td>\n",
       "      <td>su</td>\n",
       "      <td>28021</td>\n",
       "      <td>+ ??? root:ambari-qa</td>\n",
       "      <td>2019-10-06 06:27:43</td>\n",
       "      <td>2019-10-06 06:20:00</td>\n",
       "    </tr>\n",
       "  </tbody>\n",
       "</table>\n",
       "</div>"
      ],
      "text/plain": [
       "            timestamp                 hostname         event event_type  \\\n",
       "0 2019-10-06 06:25:15  de-5-maria-sokolova-cn1  CRON[26658]:       CRON   \n",
       "1 2019-10-06 06:27:42  de-5-maria-sokolova-cn1    su[14001]:         su   \n",
       "2 2019-10-06 06:27:42  de-5-maria-sokolova-cn1         sudo:       sudo   \n",
       "3 2019-10-06 06:27:43  de-5-maria-sokolova-cn1    su[28021]:         su   \n",
       "4 2019-10-06 06:27:43  de-5-maria-sokolova-cn1    su[28021]:         su   \n",
       "\n",
       "  event_pid                                            message  \\\n",
       "0     26658  pam_unix(cron:session): session closed for use...   \n",
       "1     14001  pam_unix(su:session): session closed for user ...   \n",
       "2                                                         None   \n",
       "3     28021                Successful su for ambari-qa by root   \n",
       "4     28021                               + ??? root:ambari-qa   \n",
       "\n",
       "                   ts            ts_start  \n",
       "0 2019-10-06 06:25:15 2019-10-06 06:20:00  \n",
       "1 2019-10-06 06:27:42 2019-10-06 06:20:00  \n",
       "2 2019-10-06 06:27:42 2019-10-06 06:20:00  \n",
       "3 2019-10-06 06:27:43 2019-10-06 06:20:00  \n",
       "4 2019-10-06 06:27:43 2019-10-06 06:20:00  "
      ]
     },
     "execution_count": 87,
     "metadata": {},
     "output_type": "execute_result"
    }
   ],
   "source": [
    "pd_df.head()"
   ]
  },
  {
   "cell_type": "code",
   "execution_count": 137,
   "metadata": {},
   "outputs": [
    {
     "name": "stdout",
     "output_type": "stream",
     "text": [
      "+---------------------------------------------------------+\n",
      "|concat(substring(CAST(timestamp AS STRING), 1, 15), 0:00)|\n",
      "+---------------------------------------------------------+\n",
      "|                                      2019-10-06 06:20:00|\n",
      "|                                      2019-10-06 06:20:00|\n",
      "|                                      2019-10-06 06:20:00|\n",
      "|                                      2019-10-06 06:20:00|\n",
      "|                                      2019-10-06 06:20:00|\n",
      "|                                      2019-10-06 06:20:00|\n",
      "|                                      2019-10-06 06:20:00|\n",
      "|                                      2019-10-06 06:20:00|\n",
      "|                                      2019-10-06 06:20:00|\n",
      "|                                      2019-10-06 06:20:00|\n",
      "|                                      2019-10-06 06:20:00|\n",
      "|                                      2019-10-06 06:20:00|\n",
      "|                                      2019-10-06 06:30:00|\n",
      "|                                      2019-10-06 06:30:00|\n",
      "|                                      2019-10-06 06:30:00|\n",
      "|                                      2019-10-06 06:30:00|\n",
      "|                                      2019-10-06 06:30:00|\n",
      "|                                      2019-10-06 06:30:00|\n",
      "|                                      2019-10-06 06:30:00|\n",
      "|                                      2019-10-06 06:30:00|\n",
      "+---------------------------------------------------------+\n",
      "only showing top 20 rows\n",
      "\n"
     ]
    }
   ],
   "source": [
    "df.select(sf.concat(sf.substring(sf.expr(\"cast(timestamp as string)\"),1,15) , sf.lit(\"0:00\"))).show(20)"
   ]
  }
 ],
 "metadata": {
  "kernelspec": {
   "display_name": "Python [conda env:dsenv]",
   "language": "python",
   "name": "conda-env-dsenv-py"
  },
  "language_info": {
   "codemirror_mode": {
    "name": "ipython",
    "version": 2
   },
   "file_extension": ".py",
   "mimetype": "text/x-python",
   "name": "python",
   "nbconvert_exporter": "python",
   "pygments_lexer": "ipython2",
   "version": "2.7.16"
  }
 },
 "nbformat": 4,
 "nbformat_minor": 2
}
