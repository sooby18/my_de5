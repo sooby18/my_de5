{
 "cells": [
  {
   "cell_type": "code",
   "execution_count": 1,
   "metadata": {},
   "outputs": [],
   "source": [
    "clickhouse_host=\"localhost\" \n",
    "clickhouse_port=\"8123\"\n",
    "import requests\n",
    "uri = 'http://{}:{}'.format(clickhouse_host, clickhouse_port)\n",
    "res = requests.get(uri)\n",
    "is_success = res.status_code == 200"
   ]
  },
  {
   "cell_type": "code",
   "execution_count": 2,
   "metadata": {},
   "outputs": [
    {
     "data": {
      "text/plain": [
       "True"
      ]
     },
     "execution_count": 2,
     "metadata": {},
     "output_type": "execute_result"
    }
   ],
   "source": [
    "is_success"
   ]
  },
  {
   "cell_type": "code",
   "execution_count": 3,
   "metadata": {},
   "outputs": [],
   "source": [
    "column_list = \"aov, revenue, purchases\"\n",
    "table = \"maria_sokolova_lab01_agg_hourly\""
   ]
  },
  {
   "cell_type": "code",
   "execution_count": 4,
   "metadata": {},
   "outputs": [
    {
     "name": "stdout",
     "output_type": "stream",
     "text": [
      "clickhouse_check_table: select aov, revenue, purchases from maria_sokolova_lab01_agg_hourly format JSON\n",
      "{\n",
      "\t\"meta\":\n",
      "\t[\n",
      "\t\t{\n",
      "\t\t\t\"name\": \"aov\",\n",
      "\t\t\t\"type\": \"Float64\"\n",
      "\t\t},\n",
      "\t\t{\n",
      "\t\t\t\"name\": \"revenue\",\n",
      "\t\t\t\"type\": \"Int64\"\n",
      "\t\t},\n",
      "\t\t{\n",
      "\t\t\t\"name\": \"purchases\",\n",
      "\t\t\t\"type\": \"UInt64\"\n",
      "\t\t}\n",
      "\t],\n",
      "\n",
      "\t\"data\":\n",
      "\t[\n",
      "\t\t{\n",
      "\t\t\t\"aov\": 20310.166666666668,\n",
      "\t\t\t\"revenue\": \"121861\",\n",
      "\t\t\t\"purchases\": \"6\"\n",
      "\t\t},\n",
      "\t\t{\n",
      "\t\t\t\"aov\": 24820.666666666668,\n",
      "\t\t\t\"revenue\": \"148924\",\n",
      "\t\t\t\"purchases\": \"6\"\n",
      "\t\t},\n",
      "\t\t{\n",
      "\t\t\t\"aov\": 31590.333333333332,\n",
      "\t\t\t\"revenue\": \"189542\",\n",
      "\t\t\t\"purchases\": \"6\"\n",
      "\t\t},\n",
      "\t\t{\n",
      "\t\t\t\"aov\": 28565.428571428572,\n",
      "\t\t\t\"revenue\": \"199958\",\n",
      "\t\t\t\"purchases\": \"7\"\n",
      "\t\t}\n",
      "\t],\n",
      "\n",
      "\t\"rows\": 4,\n",
      "\n",
      "\t\"statistics\":\n",
      "\t{\n",
      "\t\t\"elapsed\": 0.001273341,\n",
      "\t\t\"rows_read\": 994,\n",
      "\t\t\"bytes_read\": 82544\n",
      "\t}\n",
      "}\n",
      "\n"
     ]
    }
   ],
   "source": [
    "import urllib\n",
    "query = \"select {} from {} format JSON\".format(column_list,table)\n",
    "r = requests.get('http://{}:{}/?query={}'.format(clickhouse_host, clickhouse_port, urllib.quote(query)))\n",
    "print(\"clickhouse_check_table: {}\".format(query))\n",
    "print(r.text)\n",
    "#400 for malformed request, 404 for table does not exists\n",
    "#return True if uri.status_code == 200 else False"
   ]
  },
  {
   "cell_type": "code",
   "execution_count": 5,
   "metadata": {},
   "outputs": [
    {
     "ename": "TypeError",
     "evalue": "string indices must be integers",
     "output_type": "error",
     "traceback": [
      "\u001b[0;31m\u001b[0m",
      "\u001b[0;31mTypeError\u001b[0mTraceback (most recent call last)",
      "\u001b[0;32m<ipython-input-5-6e12256f04ab>\u001b[0m in \u001b[0;36m<module>\u001b[0;34m()\u001b[0m\n\u001b[0;32m----> 1\u001b[0;31m \u001b[0mr\u001b[0m\u001b[0;34m.\u001b[0m\u001b[0mtext\u001b[0m\u001b[0;34m[\u001b[0m\u001b[0;34m\"data\"\u001b[0m\u001b[0;34m]\u001b[0m\u001b[0;34m\u001b[0m\u001b[0m\n\u001b[0m",
      "\u001b[0;31mTypeError\u001b[0m: string indices must be integers"
     ]
    }
   ],
   "source": [
    "r.text[\"data\"]"
   ]
  },
  {
   "cell_type": "code",
   "execution_count": 6,
   "metadata": {},
   "outputs": [],
   "source": [
    "from collections import OrderedDict"
   ]
  },
  {
   "cell_type": "code",
   "execution_count": 10,
   "metadata": {
    "scrolled": false
   },
   "outputs": [],
   "source": [
    "import json\n",
    "parsed = json.loads(r.text,object_pairs_hook=OrderedDict)\n",
    "data = parsed[\"data\"] \n",
    "result=\"\"\n",
    "for l in data:\n",
    "    result=result+\"\\n\" +json.dumps(l,indent=4, sort_keys=False)\n",
    "\n",
    "#print(json.dumps(parsed,indent=0))"
   ]
  },
  {
   "cell_type": "code",
   "execution_count": 11,
   "metadata": {},
   "outputs": [
    {
     "name": "stdout",
     "output_type": "stream",
     "text": [
      "\n",
      "{\n",
      "    \"aov\": 20310.166666666668, \n",
      "    \"revenue\": \"121861\", \n",
      "    \"purchases\": \"6\"\n",
      "}\n",
      "{\n",
      "    \"aov\": 24820.666666666668, \n",
      "    \"revenue\": \"148924\", \n",
      "    \"purchases\": \"6\"\n",
      "}\n",
      "{\n",
      "    \"aov\": 31590.333333333332, \n",
      "    \"revenue\": \"189542\", \n",
      "    \"purchases\": \"6\"\n",
      "}\n",
      "{\n",
      "    \"aov\": 28565.428571428572, \n",
      "    \"revenue\": \"199958\", \n",
      "    \"purchases\": \"7\"\n",
      "}\n"
     ]
    }
   ],
   "source": [
    "print(result)"
   ]
  },
  {
   "cell_type": "code",
   "execution_count": 23,
   "metadata": {},
   "outputs": [
    {
     "name": "stdout",
     "output_type": "stream",
     "text": [
      "[\n",
      "    {\n",
      "        \"aov\": 20310.166666666668, \n",
      "        \"revenue\": \"121861\", \n",
      "        \"purchases\": \"6\"\n",
      "    }, \n",
      "    {\n",
      "        \"aov\": 24820.666666666668, \n",
      "        \"revenue\": \"148924\", \n",
      "        \"purchases\": \"6\"\n",
      "    }, \n",
      "    {\n",
      "        \"aov\": 31590.333333333332, \n",
      "        \"revenue\": \"189542\", \n",
      "        \"purchases\": \"6\"\n",
      "    }, \n",
      "    {\n",
      "        \"aov\": 28565.428571428572, \n",
      "        \"revenue\": \"199958\", \n",
      "        \"purchases\": \"7\"\n",
      "    }\n",
      "]\n"
     ]
    }
   ],
   "source": [
    "print(json.dumps(data,indent=4, sort_keys=False))"
   ]
  },
  {
   "cell_type": "code",
   "execution_count": 44,
   "metadata": {},
   "outputs": [
    {
     "name": "stdout",
     "output_type": "stream",
     "text": [
      "Help on function loads in module json:\n",
      "\n",
      "loads(s, encoding=None, cls=None, object_hook=None, parse_float=None, parse_int=None, parse_constant=None, object_pairs_hook=None, **kw)\n",
      "    Deserialize ``s`` (a ``str`` or ``unicode`` instance containing a JSON\n",
      "    document) to a Python object.\n",
      "    \n",
      "    If ``s`` is a ``str`` instance and is encoded with an ASCII based encoding\n",
      "    other than utf-8 (e.g. latin-1) then an appropriate ``encoding`` name\n",
      "    must be specified. Encodings that are not ASCII based (such as UCS-2)\n",
      "    are not allowed and should be decoded to ``unicode`` first.\n",
      "    \n",
      "    ``object_hook`` is an optional function that will be called with the\n",
      "    result of any object literal decode (a ``dict``). The return value of\n",
      "    ``object_hook`` will be used instead of the ``dict``. This feature\n",
      "    can be used to implement custom decoders (e.g. JSON-RPC class hinting).\n",
      "    \n",
      "    ``object_pairs_hook`` is an optional function that will be called with the\n",
      "    result of any object literal decoded with an ordered list of pairs.  The\n",
      "    return value of ``object_pairs_hook`` will be used instead of the ``dict``.\n",
      "    This feature can be used to implement custom decoders that rely on the\n",
      "    order that the key and value pairs are decoded (for example,\n",
      "    collections.OrderedDict will remember the order of insertion). If\n",
      "    ``object_hook`` is also defined, the ``object_pairs_hook`` takes priority.\n",
      "    \n",
      "    ``parse_float``, if specified, will be called with the string\n",
      "    of every JSON float to be decoded. By default this is equivalent to\n",
      "    float(num_str). This can be used to use another datatype or parser\n",
      "    for JSON floats (e.g. decimal.Decimal).\n",
      "    \n",
      "    ``parse_int``, if specified, will be called with the string\n",
      "    of every JSON int to be decoded. By default this is equivalent to\n",
      "    int(num_str). This can be used to use another datatype or parser\n",
      "    for JSON integers (e.g. float).\n",
      "    \n",
      "    ``parse_constant``, if specified, will be called with one of the\n",
      "    following strings: -Infinity, Infinity, NaN.\n",
      "    This can be used to raise an exception if invalid JSON numbers\n",
      "    are encountered.\n",
      "    \n",
      "    To use a custom ``JSONDecoder`` subclass, specify it with the ``cls``\n",
      "    kwarg; otherwise ``JSONDecoder`` is used.\n",
      "\n"
     ]
    }
   ],
   "source": [
    "help(json.loads)"
   ]
  },
  {
   "cell_type": "code",
   "execution_count": 42,
   "metadata": {},
   "outputs": [
    {
     "data": {
      "text/plain": [
       "[{u'aov': 20310.166666666668, u'purchases': u'6', u'revenue': u'121861'},\n",
       " {u'aov': 24820.666666666668, u'purchases': u'6', u'revenue': u'148924'},\n",
       " {u'aov': 31590.333333333332, u'purchases': u'6', u'revenue': u'189542'},\n",
       " {u'aov': 28565.428571428572, u'purchases': u'7', u'revenue': u'199958'}]"
      ]
     },
     "execution_count": 42,
     "metadata": {},
     "output_type": "execute_result"
    }
   ],
   "source": [
    "data"
   ]
  },
  {
   "cell_type": "code",
   "execution_count": 41,
   "metadata": {},
   "outputs": [
    {
     "name": "stdout",
     "output_type": "stream",
     "text": [
      "[\n",
      "    {\n",
      "        \"purchases\": \"6\", \n",
      "        \"aov\": 20310.166666666668, \n",
      "        \"revenue\": \"121861\"\n",
      "    }, \n",
      "    {\n",
      "        \"purchases\": \"6\", \n",
      "        \"aov\": 24820.666666666668, \n",
      "        \"revenue\": \"148924\"\n",
      "    }, \n",
      "    {\n",
      "        \"purchases\": \"6\", \n",
      "        \"aov\": 31590.333333333332, \n",
      "        \"revenue\": \"189542\"\n",
      "    }, \n",
      "    {\n",
      "        \"purchases\": \"7\", \n",
      "        \"aov\": 28565.428571428572, \n",
      "        \"revenue\": \"199958\"\n",
      "    }\n",
      "]\n"
     ]
    }
   ],
   "source": [
    "print(json.dumps(data, indent=4, sort_keys=False))"
   ]
  },
  {
   "cell_type": "code",
   "execution_count": 22,
   "metadata": {},
   "outputs": [
    {
     "name": "stdout",
     "output_type": "stream",
     "text": [
      "Help on function dumps in module json:\n",
      "\n",
      "dumps(obj, skipkeys=False, ensure_ascii=True, check_circular=True, allow_nan=True, cls=None, indent=None, separators=None, encoding='utf-8', default=None, sort_keys=False, **kw)\n",
      "    Serialize ``obj`` to a JSON formatted ``str``.\n",
      "    \n",
      "    If ``skipkeys`` is true then ``dict`` keys that are not basic types\n",
      "    (``str``, ``unicode``, ``int``, ``long``, ``float``, ``bool``, ``None``)\n",
      "    will be skipped instead of raising a ``TypeError``.\n",
      "    \n",
      "    \n",
      "    If ``ensure_ascii`` is false, all non-ASCII characters are not escaped, and\n",
      "    the return value may be a ``unicode`` instance. See ``dump`` for details.\n",
      "    \n",
      "    If ``check_circular`` is false, then the circular reference check\n",
      "    for container types will be skipped and a circular reference will\n",
      "    result in an ``OverflowError`` (or worse).\n",
      "    \n",
      "    If ``allow_nan`` is false, then it will be a ``ValueError`` to\n",
      "    serialize out of range ``float`` values (``nan``, ``inf``, ``-inf``) in\n",
      "    strict compliance of the JSON specification, instead of using the\n",
      "    JavaScript equivalents (``NaN``, ``Infinity``, ``-Infinity``).\n",
      "    \n",
      "    If ``indent`` is a non-negative integer, then JSON array elements and\n",
      "    object members will be pretty-printed with that indent level. An indent\n",
      "    level of 0 will only insert newlines. ``None`` is the most compact\n",
      "    representation.  Since the default item separator is ``', '``,  the\n",
      "    output might include trailing whitespace when ``indent`` is specified.\n",
      "    You can use ``separators=(',', ': ')`` to avoid this.\n",
      "    \n",
      "    If ``separators`` is an ``(item_separator, dict_separator)`` tuple\n",
      "    then it will be used instead of the default ``(', ', ': ')`` separators.\n",
      "    ``(',', ':')`` is the most compact JSON representation.\n",
      "    \n",
      "    ``encoding`` is the character encoding for str instances, default is UTF-8.\n",
      "    \n",
      "    ``default(obj)`` is a function that should return a serializable version\n",
      "    of obj or raise TypeError. The default simply raises TypeError.\n",
      "    \n",
      "    If *sort_keys* is true (default: ``False``), then the output of\n",
      "    dictionaries will be sorted by key.\n",
      "    \n",
      "    To use a custom ``JSONEncoder`` subclass (e.g. one that overrides the\n",
      "    ``.default()`` method to serialize additional types), specify it with\n",
      "    the ``cls`` kwarg; otherwise ``JSONEncoder`` is used.\n",
      "\n"
     ]
    }
   ],
   "source": [
    "\n",
    "help(json.dumps)"
   ]
  }
 ],
 "metadata": {
  "kernelspec": {
   "display_name": "Python [conda env:flaskenv]",
   "language": "python",
   "name": "conda-env-flaskenv-py"
  },
  "language_info": {
   "codemirror_mode": {
    "name": "ipython",
    "version": 2
   },
   "file_extension": ".py",
   "mimetype": "text/x-python",
   "name": "python",
   "nbconvert_exporter": "python",
   "pygments_lexer": "ipython2",
   "version": "2.7.16"
  }
 },
 "nbformat": 4,
 "nbformat_minor": 2
}
